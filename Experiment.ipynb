{
 "cells": [
  {
   "cell_type": "code",
   "execution_count": 1,
   "metadata": {
    "collapsed": false,
    "scrolled": true
   },
   "outputs": [
    {
     "name": "stdout",
     "output_type": "stream",
     "text": [
      "Dataset of 5 stars, with 501 products and 53440 reviews\n",
      "average of feature_rating_count/product = 105.867\n",
      "\n"
     ]
    }
   ],
   "source": [
    "%matplotlib inline\n",
    "import random\n",
    "import itertools\n",
    "\n",
    "import matplotlib.pyplot as plt\n",
    "import numpy as np\n",
    "\n",
    "import soli_start\n",
    "from reviews_soli import ReviewsSolicitation\n",
    "from data_model import Feature\n",
    "import uncertainty\n",
    "\n",
    "file_path = 'datasets/edmunds_reviews.csv'\n",
    "dataset_profile = soli_start.probe_dataset(file_path)\n",
    "print(dataset_profile)"
   ]
  },
  {
   "cell_type": "code",
   "execution_count": 2,
   "metadata": {
    "collapsed": false,
    "scrolled": false
   },
   "outputs": [
    {
     "name": "stdout",
     "output_type": "stream",
     "text": [
      "Statistics of #reviews/product: min=1, max=1294, average=106.667, std=148.622, median=52.0\n"
     ]
    },
    {
     "data": {
      "image/png": "[encoded data removed]",
      "text/plain": [
       "<matplotlib.figure.Figure at 0x7f86deb9e828>"
      ]
     },
     "metadata": {},
     "output_type": "display_data"
    }
   ],
   "source": [
    "# Distribution of #reviews/product\n",
    "temp = dataset_profile.per_product_review_counts\n",
    "print('Statistics of #reviews/product: min={min}, max={max}'\n",
    "      ', average={average:.3f}, std={std:.3f}, median={median}' \\\n",
    "      .format(min=np.amin(temp), max=np.amax(temp),\n",
    "              average=np.average(temp), std=np.std(temp), median=np.median(temp)))\n",
    "\n",
    "fig, ax = plt.subplots(figsize=(10, 5))\n",
    "_ = ax.hist(dataset_profile.per_product_review_counts, bins=100, rwidth=0.8)\n",
    "ax.set_xlabel('Number of reviews per product')\n",
    "ax.set_ylabel('Number products')\n",
    "ax.set_title('Distribution of #reviews/product')\n",
    "plt.show()"
   ]
  },
  {
   "cell_type": "code",
   "execution_count": 3,
   "metadata": {
    "collapsed": false
   },
   "outputs": [
    {
     "data": {
      "image/png": "[encoded data removed]",
      "text/plain": [
       "<matplotlib.figure.Figure at 0x7f86dec60f28>"
      ]
     },
     "metadata": {},
     "output_type": "display_data"
    }
   ],
   "source": [
    "# Distribution of #feature_rating/product\n",
    "fig, ax = plt.subplots(figsize=(13, 4))\n",
    "features = list(dataset_profile.feature_to_review_count_average.keys())\n",
    "num_ratings = list(dataset_profile.feature_to_review_count_average.values())\n",
    "x_pos = np.arange(len(features))\n",
    "rects = ax.bar(x_pos, num_ratings)\n",
    "\n",
    "ax.set_xlabel('Feature')\n",
    "ax.set_ylabel('Number ratings')\n",
    "ax.set_title('Distribution of #ratings')\n",
    "ax.set_xticks(x_pos)\n",
    "ax.set_xticklabels(features)\n",
    "\n",
    "for rect, num_rating in zip(rects, num_ratings):\n",
    "    height = rect.get_height()\n",
    "    ax.text(rect.get_x() + rect.get_width() / 2., 1.01*height,\n",
    "            '{:.2f}'.format(num_rating), ha='center', va='bottom')\n",
    "    \n",
    "ax.spines['right'].set_visible(False)\n",
    "ax.spines['top'].set_visible(False)\n",
    "plt.show()"
   ]
  },
  {
   "cell_type": "code",
   "execution_count": null,
   "metadata": {
    "collapsed": false
   },
   "outputs": [],
   "source": [
    "def plot_pick_answer_methods(pick_answer_to_sim_stats):\n",
    "    sim_stats_sample = list(pick_answer_to_sim_stats.values())[0]\n",
    "    metrics = sim_stats_sample.uncertainty_reports[0].metrics()\n",
    "    \n",
    "    X = list(sim_stats_sample.polls)\n",
    "    for metric in metrics:\n",
    "        #fig, ax = plt.subplots(figsize=(12, 7))\n",
    "        fig, axarr = plt.subplots(1, 2, figsize=(18, 7),\n",
    "                                  sharex=True, sharey=True,\n",
    "                                  subplot_kw=dict(title='Cost change over polls',\n",
    "                                                  xlabel='Number of polls',\n",
    "                                                  ylabel=metric))\n",
    "        \n",
    "        for pick_answer_method, sim_stats in pick_answer_to_sim_stats.items():           \n",
    "            Y = [report.get_metric(metric) for report in sim_stats.uncertainty_reports]\n",
    "            pick_method, answer_method = pick_answer_method\n",
    "            if answer_method.endswith('_gen'):\n",
    "                axarr[1].plot(X, Y, label=pick_answer_method)\n",
    "            else:\n",
    "                axarr[0].plot(X, Y, label=pick_answer_method)\n",
    "\n",
    "        for ax in axarr:\n",
    "            ax.legend(loc='upper right')\n",
    "        plt.show()\n",
    "\n",
    "def plot_no_answer_count(pick_answer_to_sim_stats):\n",
    "    no_answer_counts = [stat.no_answer_count\n",
    "                        for stat in pick_answer_to_sim_stats.values()]\n",
    "    fig, ax = plt.subplots(figsize=(5, 3), subplot_kw={'title':'No answer count',\n",
    "                                                       'xlabel':'#No answer'})\n",
    "    y_pos = np.arange(len(pick_answer_to_sim_stats))\n",
    "    rects = ax.barh(y_pos, no_answer_counts, align='center')\n",
    "    \n",
    "    ax.set_yticks(y_pos)\n",
    "    ax.set_yticklabels(pick_answer_to_sim_stats.keys())\n",
    "\n",
    "    for rect, count in zip(rects, no_answer_counts):\n",
    "        ax.text(rect.get_x() + rect.get_width() + 5,\n",
    "                rect.get_y() + rect.get_height()/2,\n",
    "                count, ha='right', va='center')\n",
    "    plt.show()"
   ]
  },
  {
   "cell_type": "code",
   "execution_count": null,
   "metadata": {
    "collapsed": false
   },
   "outputs": [
    {
     "name": "stderr",
     "output_type": "stream",
     "text": [
      "/home/nhat/workspace/reviews-solicitation/reviews_soli.py:167: RuntimeWarning: invalid value encountered in true_divide\n",
      "  np.sum(self.uncertainty_book.uncertainties)\n",
      "/home/nhat/workspace/reviews-solicitation/reviews_soli.py:169: RuntimeWarning: invalid value encountered in less\n",
      "  picked_feature = np.random.choice(self.features, p=weights)\n"
     ]
    }
   ],
   "source": [
    "import json\n",
    "\n",
    "weightings = [True]\n",
    "correlatings = [True]\n",
    "review_count_lowbound = 950\n",
    "poll_count = 100\n",
    "question_count = 2\n",
    "confidence_level = 0.95\n",
    "\n",
    "optim_goal_to_product_result_stats = {}\n",
    "for criterion, weighting, correlating in uncertainty.uncertainty_metrics:                                                                                                                               \n",
    "    if criterion == 'confidence_interval_len':\n",
    "        continue\n",
    "    product_to_result_stats = soli_start.simulate_reviews_soli(\n",
    "        file_path,\n",
    "        poll_count=poll_count, question_count=question_count,\n",
    "        review_count_lowbound=review_count_lowbound,\n",
    "        criterion=criterion, weighting=weighting, correlating=correlating,\n",
    "        dataset_profile=dataset_profile,\n",
    "        confidence_level=confidence_level)\n",
    "    \n",
    "    optim_goal_to_product_result_stats[(criterion, weighting, correlating)] = \\\n",
    "        product_to_result_stats\n",
    "\n",
    "with open('data.json', 'w') as f:\n",
    "    json.dumps(optim_goal_to_product_result_stats, f)\n",
    "print('Done with simulation, wait for plots ')"
   ]
  },
  {
   "cell_type": "code",
   "execution_count": null,
   "metadata": {
    "collapsed": false,
    "scrolled": false
   },
   "outputs": [],
   "source": [
    "product = None\n",
    "for optim_goal, product_to_result_stats in optim_goal_to_product_result_stats.items():\n",
    "    if not product:\n",
    "        product = random.choice(list(product_to_result_stats.keys()))\n",
    "        print('Product: {}\\n'.format(product))\n",
    "\n",
    "    print('Experiment with optimization goal: {}'.format(str(optim_goal)))\n",
    "    pick_answer_to_sim_stats = product_to_result_stats[product]\n",
    "\n",
    "    plot_no_answer_count(pick_answer_to_sim_stats)\n",
    "    \n",
    "    plot_pick_answer_methods(pick_answer_to_sim_stats)"
   ]
  }
 ],
 "metadata": {
  "hide_input": false,
  "kernelspec": {
   "display_name": "Python 3",
   "language": "python",
   "name": "python3"
  },
  "language_info": {
   "codemirror_mode": {
    "name": "ipython",
    "version": 3
   },
   "file_extension": ".py",
   "mimetype": "text/x-python",
   "name": "python",
   "nbconvert_exporter": "python",
   "pygments_lexer": "ipython3",
   "version": "3.5.2"
  },
  "toc": {
   "colors": {
    "hover_highlight": "#DAA520",
    "running_highlight": "#FF0000",
    "selected_highlight": "#FFD700"
   },
   "moveMenuLeft": true,
   "nav_menu": {
    "height": "12px",
    "width": "252px"
   },
   "navigate_menu": true,
   "number_sections": true,
   "sideBar": true,
   "threshold": 4,
   "toc_cell": false,
   "toc_section_display": "block",
   "toc_window_display": true
  }
 },
 "nbformat": 4,
 "nbformat_minor": 2
}
